{
  "nbformat": 4,
  "nbformat_minor": 0,
  "metadata": {
    "colab": {
      "provenance": []
    },
    "kernelspec": {
      "name": "python3",
      "display_name": "Python 3"
    },
    "language_info": {
      "name": "python"
    }
  },
  "cells": [
    {
      "cell_type": "code",
      "execution_count": 3,
      "metadata": {
        "id": "LEysfnRR8YX3",
        "colab": {
          "base_uri": "https://localhost:8080/"
        },
        "outputId": "8e8736e7-871a-4ee6-e967-6841e1243bde"
      },
      "outputs": [
        {
          "name": "stdout",
          "output_type": "stream",
          "text": [
            "Name of customer :shashwat\n",
            "Enter cost of items and quantity\n",
            "Item cost :100\n",
            "Quantity :1\n",
            "Do you want to add more items?(y/Y/n/N)n\n",
            "__________________________________________________\n",
            "Name : shashwat\n",
            "Total bill cost :  100.0\n",
            "\n",
            "*****Thankyou shopping with us*****\n",
            "__________________________________________________\n",
            "Go to next person?(y/Y/n/N)n\n"
          ]
        }
      ],
      "source": [
        "while True: \n",
        "    Total=0 \n",
        "    Customer_name=input(\"Name of customer :\") \n",
        "    while True: \n",
        "        print(\"Enter cost of items and quantity\")\n",
        "        Cost=float(input(\"Item cost :\"))\n",
        "        Quantity=int(input(\"Quantity :\"))\n",
        "        \n",
        "        Total+=Cost*Quantity                \n",
        "        repeat=input(\"Do you want to add more items?(y/Y/n/N)\")\n",
        "        if repeat=='n' or repeat=='N':\n",
        "            break\n",
        "    print(\"_\"*50)\n",
        "    print(\"Name :\",Customer_name)\n",
        "    print(\"Total bill cost : \",Total)\n",
        "    print()\n",
        "    print(\"*****Thankyou shopping with us*****\")\n",
        "    print(\"_\"*50)   \n",
        "    new_customer=input(\"Go to next person?(y/Y/n/N)\")\n",
        "    if new_customer=='n' or new_customer=='N':\n",
        "        break \n"
      ]
    }
  ]
}